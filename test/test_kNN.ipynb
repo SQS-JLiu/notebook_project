{
 "cells": [
  {
   "cell_type": "code",
   "execution_count": 20,
   "metadata": {},
   "outputs": [
    {
     "name": "stdout",
     "output_type": "stream",
     "text": [
      "The weater is:  一般热\n"
     ]
    }
   ],
   "source": [
    "from sklearn import neighbors\n",
    "import numpy as np\n",
    "def create_dataset():\n",
    "    datasets = np.array([[8,4,2],[7,1,1],[1,4,4],[3,0,5],[2,1,1]])\n",
    "    #labels = ['非常热','非常热','一般热','一般热']\n",
    "    # 0代表非常热 ， 1代表一般热\n",
    "    labels = [0,0,1,1,1]\n",
    "    return datasets, labels\n",
    "\n",
    "def knn_sklearn_predict(newV):\n",
    "    #调用机器学习库kNN分类器算法 , k默认是5,也即是n_neighbors=5\n",
    "    #调整k值可以影响分类的效果\n",
    "    knn = neighbors.KNeighborsClassifier()\n",
    "    datasets,labels = create_dataset()\n",
    "    #传入参数，特征数据，分类数据\n",
    "    knn.fit(datasets,labels)\n",
    "    #knn预测\n",
    "    predictRes = knn.predict(newV)\n",
    "    return predictRes\n",
    "\n",
    "if '__main__' == __name__:\n",
    "    newV = np.mat([2,4,4])\n",
    "    res = knn_sklearn_predict(newV)\n",
    "    weather = (\"非常热\", '一般热')\n",
    "    print('The weater is: ',weather[res[0]])"
   ]
  },
  {
   "cell_type": "code",
   "execution_count": null,
   "metadata": {},
   "outputs": [],
   "source": []
  }
 ],
 "metadata": {
  "kernelspec": {
   "display_name": "Python 3",
   "language": "python",
   "name": "python3"
  },
  "language_info": {
   "codemirror_mode": {
    "name": "ipython",
    "version": 3
   },
   "file_extension": ".py",
   "mimetype": "text/x-python",
   "name": "python",
   "nbconvert_exporter": "python",
   "pygments_lexer": "ipython3",
   "version": "3.7.3"
  }
 },
 "nbformat": 4,
 "nbformat_minor": 2
}
