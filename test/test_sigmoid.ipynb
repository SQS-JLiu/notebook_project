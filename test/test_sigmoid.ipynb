{
 "cells": [
  {
   "cell_type": "markdown",
   "metadata": {},
   "source": [
    "数据集 CIFAR-10 python版"
   ]
  },
  {
   "cell_type": "code",
   "execution_count": 1,
   "metadata": {},
   "outputs": [],
   "source": [
    "import _pickle as cPickle\n",
    "import numpy as np\n",
    "import os"
   ]
  },
  {
   "cell_type": "code",
   "execution_count": 2,
   "metadata": {},
   "outputs": [
    {
     "name": "stdout",
     "output_type": "stream",
     "text": [
      "['batches.meta', 'data_batch_1', 'data_batch_2', 'data_batch_3', 'data_batch_4', 'data_batch_5', 'readme.html', 'test_batch']\n"
     ]
    }
   ],
   "source": [
    "CIFAR_DIR = './cifar-10-batches-py'\n",
    "print(os.listdir(CIFAR_DIR))"
   ]
  },
  {
   "cell_type": "code",
   "execution_count": 3,
   "metadata": {},
   "outputs": [
    {
     "name": "stdout",
     "output_type": "stream",
     "text": [
      "<class 'dict'>\n",
      "dict_keys(['batch_label', 'labels', 'data', 'filenames'])\n",
      "<class 'numpy.ndarray'>\n",
      "<class 'list'>\n",
      "<class 'str'>\n",
      "(10000, 3072)\n",
      "[[ 59  43  50 ... 140  84  72]\n",
      " [154 126 105 ... 139 142 144]]\n",
      "[6, 9]\n",
      "training batch 1 of 5\n",
      "['leptodactylus_pentadactylus_s_000004.png', 'camion_s_000148.png']\n"
     ]
    }
   ],
   "source": [
    "with open(os.path.join(CIFAR_DIR, 'data_batch_1'), 'rb') as f:\n",
    "    data = cPickle.load(f,encoding='iso-8859-1')\n",
    "    print(type(data))\n",
    "    print(data.keys())\n",
    "    print(type(data['data']))\n",
    "    print(type(data['labels']))\n",
    "    print(type(data['batch_label']))\n",
    "    print(data['data'].shape) # 10000个图片， 一张图片数据32 * 32 = 1024 * 3 = 3072 \n",
    "    print(data['data'][0:2])  # RR--GG--BB 三个通道加在一起就是3072\n",
    "    print(data['labels'][0:2])# 图片类型类型，数字表示\n",
    "    print(data['batch_label'])#5个训练数据中的第一个 \n",
    "    print(data['filenames'][0:2]) #图片名字\n",
    "   "
   ]
  },
  {
   "cell_type": "code",
   "execution_count": 4,
   "metadata": {},
   "outputs": [],
   "source": [
    "image_arr = data['data'][100]\n",
    "image_arr = image_arr.reshape((3,32,32)) # 32 32 3\n",
    "image_arr = image_arr.transpose((1,2,0))\n",
    "import matplotlib.pyplot as plt\n",
    "#plt.imshow(image_arr)"
   ]
  },
  {
   "cell_type": "markdown",
   "metadata": {},
   "source": [
    "构建模型"
   ]
  },
  {
   "cell_type": "code",
   "execution_count": 5,
   "metadata": {},
   "outputs": [],
   "source": [
    "import tensorflow as tf"
   ]
  },
  {
   "cell_type": "code",
   "execution_count": 6,
   "metadata": {},
   "outputs": [],
   "source": [
    "def load_data(filename):\n",
    "    \"\"\" read data from data file\"\"\"\n",
    "    with open(filename, 'rb') as f:\n",
    "        data = cPickle.load(f,encoding='iso-8859-1')\n",
    "        return data['data'], data['labels']"
   ]
  },
  {
   "cell_type": "code",
   "execution_count": 7,
   "metadata": {},
   "outputs": [
    {
     "name": "stdout",
     "output_type": "stream",
     "text": [
      "WARNING:tensorflow:From D:\\Anaconda3\\lib\\site-packages\\tensorflow\\python\\framework\\op_def_library.py:263: colocate_with (from tensorflow.python.framework.ops) is deprecated and will be removed in a future version.\n",
      "Instructions for updating:\n",
      "Colocations handled automatically by placer.\n"
     ]
    }
   ],
   "source": [
    "x = tf.placeholder(tf.float32, [None, 3072])\n",
    "# [None]\n",
    "y = tf.placeholder(tf.int64, [None])\n",
    "# (3072 ,1)\n",
    "w = tf.get_variable('w', [x.get_shape()[-1], 1], initializer = tf.random_normal_initializer(0,1)) #它会去搜索变量名，有就直接用，没有再新建\n",
    "# (1, )\n",
    "b = tf.get_variable('b', [1], initializer=tf.constant_initializer(0.0))\n",
    "# [None, 3072] * [3072, 1]  = [None, 1]\n",
    "y_ = tf.matmul(x,w) + b\n",
    "# [None, 1]       计算公式 y = 1/(1+exp(-wx))  计算结果为1或0，用于二分类   exp(x)代表e的x次幂\n",
    "p_y_1 = tf.nn.sigmoid(y_) #使用sigmoid模型算出y为1的概率，返回矩阵\n",
    "# [None, 1]\n",
    "y_reshape = tf.reshape(y, (-1, 1))\n",
    "y_reshape_float = tf.cast(y_reshape, tf.float32)\n",
    "loss = tf.reduce_mean(tf.square(y_reshape_float - p_y_1))\n",
    "#boolean\n",
    "predict = p_y_1 > 0.5 #大于0.5我们认为为1\n",
    "# [1,0,1,1,1,0,0,0]\n",
    "correct_prediction = tf.equal(tf.cast(predict, tf.int64), y_reshape)\n",
    "accuracy = tf.reduce_mean(tf.cast(correct_prediction, tf.float64))\n",
    "#train是修改计算图中tf.Variable（默认是计算图中所有tf.Variable，可以通过var_list指定）达到训练的目的\n",
    "with tf.name_scope('train_op'):  #防止命名冲突,在该scope的命名的变量都是在train_op命名空间里的\n",
    "    train_op = tf.train.AdamOptimizer(1e-3).minimize(loss)"
   ]
  },
  {
   "cell_type": "code",
   "execution_count": 28,
   "metadata": {},
   "outputs": [
    {
     "name": "stdout",
     "output_type": "stream",
     "text": [
      "(10000, 3072)\n",
      "(10000,)\n",
      "(2000, 3072)\n",
      "(2000,)\n"
     ]
    }
   ],
   "source": [
    "#tensorflow.Dataset\n",
    "class CifarData:\n",
    "    def __init__(self, filenames, need_shuffle):\n",
    "        all_data = []\n",
    "        all_labels = []\n",
    "        for filename in filenames:\n",
    "            data, labels = load_data(filename)\n",
    "            for item, label in zip(data, labels):\n",
    "                if label in [0,1]: #获取两个类的数据，二元分类\n",
    "                    all_data.append(item)\n",
    "                    all_labels.append(label)\n",
    "        self._data = np.vstack(all_data)\n",
    "        self._data = self._data / 127.5 -1 # 每个数据之前是[0,255],缩放数据 [-1,1]之间，归一化,防止数据偏向一方\n",
    "        self._labels = np.hstack(all_labels)\n",
    "        print(self._data.shape)\n",
    "        print(self._labels.shape)\n",
    "        self._num_examples = self._data.shape[0]\n",
    "        self._need_shuffle = need_shuffle\n",
    "        self._indicator = 0\n",
    "        if self._need_shuffle:\n",
    "            self._shuffle_data()\n",
    "            pass\n",
    "    \n",
    "    def _shuffle_data(self):\n",
    "        # [0,1,2,3,4,5] -> [5,3,2,4,0,1]\n",
    "        p = np.random.permutation(self._num_examples)\n",
    "        self._data = self._data[p]\n",
    "        self._labels = self._labels[p]\n",
    "    \n",
    "    def next_batch(self, batch_size):\n",
    "        \"\"\"return batch_size exmples as a batch.\"\"\"\n",
    "        end_indicator = self._indicator + batch_size\n",
    "        if end_indicator > self._num_examples:\n",
    "            if self._need_shuffle:\n",
    "                self._shuffle_data()\n",
    "                self._indicator = 0\n",
    "                end_indicator = batch_size\n",
    "            else:\n",
    "                raise Exception('have no more examples.')\n",
    "        if end_indicator > self._num_examples:\n",
    "           raise Exception('batch size is lager than all examples.')\n",
    "        batch_data = self._data[self._indicator: end_indicator]\n",
    "        batch_labels = self._labels[self._indicator: end_indicator]\n",
    "        self._indicator = end_indicator\n",
    "        return batch_data, batch_labels\n",
    "        pass\n",
    "train_filenames = [os.path.join(CIFAR_DIR, 'data_batch_%d'%i)for i in range(1, 6)]\n",
    "test_filenames = [os.path.join(CIFAR_DIR, 'test_batch')]\n",
    "\n",
    "train_data = CifarData(train_filenames, True)\n",
    "test_data = CifarData(test_filenames, False)\n",
    "# batch_data, batch_labels = train_data.next_batch(10)\n",
    "# print(batch_data)\n",
    "# print(batch_labels)"
   ]
  },
  {
   "cell_type": "code",
   "execution_count": 29,
   "metadata": {},
   "outputs": [
    {
     "name": "stdout",
     "output_type": "stream",
     "text": [
      "[Train] Step: 0, loss: 0.80246, acc: 0.10000\n",
      "[Train] Step: 500, loss: 0.19654, acc: 0.80000\n",
      "[Train] Step: 1000, loss: 0.30233, acc: 0.70000\n",
      "[Train] Step: 1500, loss: 0.15000, acc: 0.85000\n",
      "[Train] Step: 2000, loss: 0.24091, acc: 0.75000\n",
      "[Train] Step: 2500, loss: 0.10000, acc: 0.90000\n",
      "[Train] Step: 3000, loss: 0.16493, acc: 0.80000\n",
      "[Train] Step: 3500, loss: 0.19699, acc: 0.80000\n",
      "[Train] Step: 4000, loss: 0.29898, acc: 0.70000\n",
      "[Train] Step: 4500, loss: 0.19314, acc: 0.80000\n",
      "(2000, 3072)\n",
      "(2000,)\n",
      "[Test] Step: 5000, acc 0.79200\n",
      "[Train] Step: 5000, loss: 0.22580, acc: 0.75000\n",
      "[Train] Step: 5500, loss: 0.09996, acc: 0.90000\n",
      "[Train] Step: 6000, loss: 0.10001, acc: 0.90000\n",
      "[Train] Step: 6500, loss: 0.20610, acc: 0.80000\n",
      "[Train] Step: 7000, loss: 0.10437, acc: 0.90000\n",
      "[Train] Step: 7500, loss: 0.09180, acc: 0.90000\n",
      "[Train] Step: 8000, loss: 0.10004, acc: 0.90000\n",
      "[Train] Step: 8500, loss: 0.08750, acc: 0.90000\n",
      "[Train] Step: 9000, loss: 0.19998, acc: 0.80000\n",
      "[Train] Step: 9500, loss: 0.14581, acc: 0.85000\n",
      "(2000, 3072)\n",
      "(2000,)\n",
      "[Test] Step: 10000, acc 0.80100\n"
     ]
    }
   ],
   "source": [
    "init = tf.global_variables_initializer()\n",
    "batch_size = 20\n",
    "train_steps = 10000\n",
    "test_steps = 100\n",
    "\n",
    "with tf.Session() as sess:\n",
    "    sess.run(init)\n",
    "    for i in range(train_steps):\n",
    "        batch_data, batch_labels = train_data.next_batch(batch_size)\n",
    "        loss_val, acc_val, _ = sess.run(\n",
    "        [loss, accuracy, train_op],\n",
    "            feed_dict = {\n",
    "                x:batch_data,\n",
    "                y:batch_labels\n",
    "            })\n",
    "        if i % 500 == 0:\n",
    "            print('[Train] Step: %d, loss: %4.5f, acc: %4.5f' \\\n",
    "                 % (i, loss_val, acc_val))\n",
    "        if (i+1) % 5000 == 0:\n",
    "            test_data = CifarData(test_filenames, False)\n",
    "            all_test_acc_val = []\n",
    "            for j in range(test_steps):\n",
    "                test_batch_data, test_batch_labels \\\n",
    "                    = test_data.next_batch(batch_size)\n",
    "                test_acc_val = sess.run(\n",
    "                    [accuracy],\n",
    "                    feed_dict = {\n",
    "                        x: test_batch_data,\n",
    "                        y: test_batch_labels\n",
    "                    })\n",
    "                all_test_acc_val.append(test_acc_val)\n",
    "            test_acc = np.mean(all_test_acc_val)\n",
    "            print ('[Test] Step: %d, acc %4.5f' %( i+1, test_acc))"
   ]
  },
  {
   "cell_type": "code",
   "execution_count": null,
   "metadata": {},
   "outputs": [],
   "source": []
  }
 ],
 "metadata": {
  "kernelspec": {
   "display_name": "Python 3",
   "language": "python",
   "name": "python3"
  },
  "language_info": {
   "codemirror_mode": {
    "name": "ipython",
    "version": 3
   },
   "file_extension": ".py",
   "mimetype": "text/x-python",
   "name": "python",
   "nbconvert_exporter": "python",
   "pygments_lexer": "ipython3",
   "version": "3.7.3"
  }
 },
 "nbformat": 4,
 "nbformat_minor": 2
}
